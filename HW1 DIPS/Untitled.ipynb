{
 "cells": [
  {
   "cell_type": "markdown",
   "id": "8fde72d8-3a49-48da-8834-8f20d7909dfc",
   "metadata": {},
   "source": [
    "# Question 1\n",
    "\n",
    "* If you use a sheet of white paper to shield your eyes when looking directly at the sun, the side of the sheet facing you appears black. What is responsible for this?\n",
    "    * \n",
    "\n",
    "\n",
    "* When you enter a dark theatre on a bright day, it takes a appreciable interval of time before you can see well enough to find an empty seat. What is at play in this situation?\n",
    "    * Depending on the amount of light in the environment your eye will dialate in a certain manner. In the sense of this scenerio you eye would be have to dialate to account for going from an environment with an abundance of light to one that is lacking light.\n",
    "    * In short your eye would have a small \"aperature\" to account for the tons of light then when you go in the theatre your eyes \"aperature\" would grow larger to allow more light in."
   ]
  },
  {
   "cell_type": "code",
   "execution_count": null,
   "id": "c443081c-52e2-4921-b922-746e7d2695ef",
   "metadata": {},
   "outputs": [],
   "source": []
  }
 ],
 "metadata": {
  "kernelspec": {
   "display_name": "Python 3 (ipykernel)",
   "language": "python",
   "name": "python3"
  },
  "language_info": {
   "codemirror_mode": {
    "name": "ipython",
    "version": 3
   },
   "file_extension": ".py",
   "mimetype": "text/x-python",
   "name": "python",
   "nbconvert_exporter": "python",
   "pygments_lexer": "ipython3",
   "version": "3.11.5"
  }
 },
 "nbformat": 4,
 "nbformat_minor": 5
}
